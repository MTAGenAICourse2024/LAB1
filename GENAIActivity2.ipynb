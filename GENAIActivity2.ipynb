{
 "cells": [
  {
   "cell_type": "markdown",
   "id": "333cac11-d241-4570-a42d-ff37e7cc9c28",
   "metadata": {},
   "source": [
    "##  Reputation monitoring system"
   ]
  },
  {
   "cell_type": "markdown",
   "id": "2dff033e-763d-42d5-85d6-acf054fefe3b",
   "metadata": {},
   "source": [
    "Instructions: \n",
    "1. For each of the four code cells below, click on the cell then hit Shift+Enter on your keyboard to run the code (or if on a mobile device, press 'play' button). \n",
    "2. Optionally edit the reviews in Code cell 2, and try again (rerun the 2nd, 3rd and 4th code cells)!  "
   ]
  },
  {
   "cell_type": "markdown",
   "id": "e664e698-066e-4b96-9cfb-15a02517384a",
   "metadata": {},
   "source": [
    "**Code cell 1:** Set up programming environment to use code to send prompts to OpenAI's cloud-hosted service. "
   ]
  },
  {
   "cell_type": "code",
   "id": "d1ac1b9c-0e31-4795-88e5-0be94467a213",
   "metadata": {
    "height": 166,
    "ExecuteTime": {
     "end_time": "2024-11-09T14:16:55.912777Z",
     "start_time": "2024-11-09T14:16:55.900736Z"
    }
   },
   "source": [
    "num_positive = 0\n",
    "num_negative = 0\n",
    "for sentiment in all_sentiments:\n",
    "    if sentiment == 'positive':\n",
    "        num_positive += 1\n",
    "    elif sentiment == 'negative':\n",
    "        num_negative += 1\n",
    "print(f\"There are {num_positive} positive and {num_negative} negative reviews.\")"
   ],
   "outputs": [
    {
     "name": "stdout",
     "output_type": "stream",
     "text": [
      "There are 3 positive and 2 negative reviews.\n"
     ]
    }
   ],
   "execution_count": 6
  },
  {
   "metadata": {},
   "cell_type": "markdown",
   "source": "**Code cell 2:** Create a list of reviews. ",
   "id": "f5c28fca-8bcf-4d04-a52a-2849eba8a931"
  },
  {
   "metadata": {
    "height": 166,
    "ExecuteTime": {
     "end_time": "2024-11-09T14:15:14.384981Z",
     "start_time": "2024-11-09T14:15:14.368572Z"
    }
   },
   "cell_type": "code",
   "source": [
    "all_reviews = [\n",
    "    'The mochi is excellent!',\n",
    "    'Best soup dumplings I have ever eaten.',\n",
    "    'Not worth the 3 month wait for a reservation.',\n",
    "    'The colorful tablecloths made me smile!',\n",
    "    'The pasta was cold.'\n",
    "]\n",
    "\n",
    "all_reviews"
   ],
   "id": "1863af0b-4238-4071-b5d7-e632d20f99ea",
   "outputs": [
    {
     "data": {
      "text/plain": [
       "['The mochi is excellent!',\n",
       " 'Best soup dumplings I have ever eaten.',\n",
       " 'Not worth the 3 month wait for a reservation.',\n",
       " 'The colorful tablecloths made me smile!',\n",
       " 'The pasta was cold.']"
      ]
     },
     "execution_count": 4,
     "metadata": {},
     "output_type": "execute_result"
    }
   ],
   "execution_count": 4
  },
  {
   "metadata": {},
   "cell_type": "markdown",
   "source": "**Code cell 3:** Classify the reviews as positive or negative. ",
   "id": "288fba0e-a148-4c55-9f21-3a15fef0a9b5"
  },
  {
   "metadata": {
    "height": 268,
    "ExecuteTime": {
     "end_time": "2024-11-09T14:15:27.490549Z",
     "start_time": "2024-11-09T14:15:23.483686Z"
    }
   },
   "cell_type": "code",
   "source": [
    "all_sentiments = []\n",
    "for review in all_reviews:\n",
    "    prompt = f'''\n",
    "        Classify the following review \n",
    "        as having either a positive or\n",
    "        negative sentiment. State your answer\n",
    "        as a single word, either \"positive\" or\n",
    "        \"negative\":\n",
    "\n",
    "        {review}\n",
    "        '''\n",
    "    response = llm_response(prompt)\n",
    "    all_sentiments.append(response)\n",
    "\n",
    "all_sentiments"
   ],
   "id": "e1d06ce6-7ef3-448f-8926-235d6c5eceeb",
   "outputs": [
    {
     "data": {
      "text/plain": [
       "['positive', 'positive', 'negative', 'positive', 'negative']"
      ]
     },
     "execution_count": 5,
     "metadata": {},
     "output_type": "execute_result"
    }
   ],
   "execution_count": 5
  },
  {
   "metadata": {},
   "cell_type": "markdown",
   "source": "**Code cell 4**: Count the number of positive and negative reviews ",
   "id": "a6e678a5-0fd1-41b3-8cd4-8cd470d6c525"
  }
 ],
 "metadata": {
  "kernelspec": {
   "display_name": "Python 3 (ipykernel)",
   "language": "python",
   "name": "python3"
  },
  "language_info": {
   "codemirror_mode": {
    "name": "ipython",
    "version": 3
   },
   "file_extension": ".py",
   "mimetype": "text/x-python",
   "name": "python",
   "nbconvert_exporter": "python",
   "pygments_lexer": "ipython3",
   "version": "3.9.19"
  }
 },
 "nbformat": 4,
 "nbformat_minor": 5
}
