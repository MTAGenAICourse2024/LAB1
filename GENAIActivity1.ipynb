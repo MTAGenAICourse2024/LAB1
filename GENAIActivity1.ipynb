{
 "cells": [
  {
   "metadata": {},
   "cell_type": "markdown",
   "source": "",
   "id": "675b474ae51528d"
  },
  {
   "metadata": {},
   "cell_type": "markdown",
   "source": "## Prompting an LLM in code",
   "id": "348b4130-475b-473b-9aa0-b5390ec8561d"
  },
  {
   "metadata": {},
   "cell_type": "markdown",
   "source": [
    "Instructions: \n",
    "1. For each of the two code cells below, click on the cell then hit Shift+Enter on your keyboard to run the code (or if on a mobile device, press 'play' button). \n",
    "2. Optionally edit the prompt, and try again! "
   ],
   "id": "33449491-24d6-423f-9696-b7d2861b7703"
  },
  {
   "metadata": {},
   "cell_type": "markdown",
   "source": "**Code cell 1:** Set up programming environment to use code to send prompts to OpenAI's cloud-hosted service. ",
   "id": "2988859a-1ccf-485b-a9ab-dea0b9a0cb96"
  },
  {
   "metadata": {
    "height": 217,
    "ExecuteTime": {
     "end_time": "2024-11-09T13:57:51.659454Z",
     "start_time": "2024-11-09T13:57:51.649419Z"
    }
   },
   "cell_type": "code",
   "source": [
    "import openai\n",
    "import os\n",
    "\n",
    "openai.api_key = os.getenv(\"OPENAI_API_KEY\")\n",
    "\n",
    "\n",
    "def llm_response(prompt):\n",
    "    response = openai.ChatCompletion.create(\n",
    "        model='gpt-3.5-turbo',\n",
    "        messages=[{'role':'user','content':prompt}],\n",
    "        temperature=0\n",
    "    )\n",
    "    return response.choices[0].message['content']"
   ],
   "id": "e021aa3f-8a6a-4acb-a589-015fa3682043",
   "outputs": [],
   "execution_count": 7
  },
  {
   "metadata": {},
   "cell_type": "markdown",
   "source": "**Code cell 2:** Define a prompt that will classify the sentiment of a restaurant review. ",
   "id": "3ca2a97d-aab0-49b2-a7e2-bff596e9483c"
  },
  {
   "metadata": {
    "height": 183,
    "tags": [],
    "ExecuteTime": {
     "end_time": "2024-11-09T13:59:15.905751Z",
     "start_time": "2024-11-09T13:59:15.250244Z"
    }
   },
   "cell_type": "code",
   "source": [
    "prompt = '''\n",
    "    Classify the following review \n",
    "    as having either a positive or\n",
    "    negative sentiment:\n",
    "\n",
    "    Sandwich was out of this world\n",
    "'''\n",
    "\n",
    "response = llm_response(prompt)\n",
    "print(response)"
   ],
   "id": "4bac4c00-7320-4a5f-a964-f7b4d13d49f9",
   "outputs": [
    {
     "name": "stdout",
     "output_type": "stream",
     "text": [
      "Positive sentiment\n"
     ]
    }
   ],
   "execution_count": 9
  },
  {
   "metadata": {
    "ExecuteTime": {
     "end_time": "2024-11-09T13:48:14.499957Z",
     "start_time": "2024-11-09T13:48:14.489955Z"
    }
   },
   "cell_type": "code",
   "source": "\n",
   "id": "5cb7e859a976ccad",
   "outputs": [],
   "execution_count": 1
  },
  {
   "cell_type": "code",
   "execution_count": null,
   "id": "c5f2be8a",
   "metadata": {
    "height": 30
   },
   "outputs": [],
   "source": []
  },
  {
   "cell_type": "code",
   "id": "5aaa57ab",
   "metadata": {
    "height": 30,
    "ExecuteTime": {
     "end_time": "2024-11-09T13:48:09.024392Z",
     "start_time": "2024-11-09T13:48:09.020014Z"
    }
   },
   "source": [],
   "outputs": [],
   "execution_count": null
  },
  {
   "metadata": {},
   "cell_type": "code",
   "source": "",
   "id": "f11d7617488eddd4",
   "outputs": [],
   "execution_count": null
  },
  {
   "metadata": {},
   "cell_type": "code",
   "outputs": [],
   "execution_count": null,
   "source": "",
   "id": "fb55106d789c4a78"
  }
 ],
 "metadata": {
  "kernelspec": {
   "display_name": "Python 3 (ipykernel)",
   "language": "python",
   "name": "python3"
  },
  "language_info": {
   "codemirror_mode": {
    "name": "ipython",
    "version": 3
   },
   "file_extension": ".py",
   "mimetype": "text/x-python",
   "name": "python",
   "nbconvert_exporter": "python",
   "pygments_lexer": "ipython3",
   "version": "3.9.19"
  }
 },
 "nbformat": 4,
 "nbformat_minor": 5
}
